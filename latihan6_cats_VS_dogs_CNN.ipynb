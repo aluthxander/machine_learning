{
  "nbformat": 4,
  "nbformat_minor": 0,
  "metadata": {
    "colab": {
      "name": "latihan6_cats_VS_dogs_CNN.ipynb",
      "provenance": [],
      "collapsed_sections": []
    },
    "kernelspec": {
      "name": "python3",
      "display_name": "Python 3"
    },
    "language_info": {
      "name": "python"
    },
    "accelerator": "GPU"
  },
  "cells": [
    {
      "cell_type": "code",
      "execution_count": null,
      "metadata": {
        "id": "U0Aj2JNrt27V"
      },
      "outputs": [],
      "source": [
        "import os\n",
        "import zipfile\n",
        "import random\n",
        "import shutil\n",
        "import tensorflow as tf\n",
        "from tensorflow.keras.preprocessing.image import ImageDataGenerator\n",
        "from shutil import copyfile\n",
        "import matplotlib.pyplot as plt\n",
        "import collections"
      ]
    },
    {
      "cell_type": "markdown",
      "source": [
        "# Import Dataset"
      ],
      "metadata": {
        "id": "dXa9yX7UfoNt"
      }
    },
    {
      "cell_type": "code",
      "source": [
        "!gdown https://drive.google.com/uc?id=1AHCJI2Tb2jz5Z_9O5LsnOCkaWGDxcpuy \\\n",
        "      -O \"/tmp/cats-and-dogs.zip\""
      ],
      "metadata": {
        "colab": {
          "base_uri": "https://localhost:8080/"
        },
        "id": "FFZ_H5DNeuu8",
        "outputId": "71d17b43-eb28-4435-9c55-b0ea252c7314"
      },
      "execution_count": null,
      "outputs": [
        {
          "output_type": "stream",
          "name": "stdout",
          "text": [
            "Downloading...\n",
            "From: https://drive.google.com/uc?id=1AHCJI2Tb2jz5Z_9O5LsnOCkaWGDxcpuy\n",
            "To: /tmp/cats-and-dogs.zip\n",
            "100% 853M/853M [00:07<00:00, 111MB/s]\n"
          ]
        }
      ]
    },
    {
      "cell_type": "markdown",
      "source": [
        "# Unzip Dataset"
      ],
      "metadata": {
        "id": "XO-E7znmh6r3"
      }
    },
    {
      "cell_type": "code",
      "source": [
        "!unzip -u \"/tmp/cats-and-dogs.zip\" -d \"/tmp\"\n",
        "try:\n",
        "  os.mkdir('/tmp/PetImages')\n",
        "except OSError:\n",
        "  print(\"Kamu sudah buat directorinya\")\n",
        "!unzip -u \"/tmp/train.zip\" -d \"/tmp/PetImages\"\n",
        "!unzip -u \"/tmp/test.zip\" -d \"/tmp/PetImages\""
      ],
      "metadata": {
        "id": "33Z-500Hfnjm"
      },
      "execution_count": null,
      "outputs": []
    },
    {
      "cell_type": "code",
      "source": [
        "source_path = '/tmp/PetImages'\n",
        "source_path_train = os.path.join(source_path, 'train')\n",
        "print(f\"There are {len(os.listdir(source_path_train))} images of train\")"
      ],
      "metadata": {
        "colab": {
          "base_uri": "https://localhost:8080/"
        },
        "id": "KkGcEWmUh9pl",
        "outputId": "9a61954d-770a-4345-e097-72e33f1d0350"
      },
      "execution_count": null,
      "outputs": [
        {
          "output_type": "stream",
          "name": "stdout",
          "text": [
            "There are 25000 images of train\n"
          ]
        }
      ]
    },
    {
      "cell_type": "markdown",
      "source": [
        "# Organize Images"
      ],
      "metadata": {
        "id": "Gt3gffaLEcKQ"
      }
    },
    {
      "cell_type": "code",
      "source": [
        "# mengorganize image pada train\n",
        "def organize_img(path_train):\n",
        "  mappings_file = collections.defaultdict()\n",
        "\n",
        "  for filename in os.listdir(path_train):\n",
        "      type_img = filename.split('.')[0]\n",
        "      mappings_file.setdefault(type_img, []).append(filename)\n",
        "  # print(mappings_file.items())\n",
        "  for name_dir, Item_dir in mappings_file.items():\n",
        "      folder_path = os.path.join(path_train, name_dir)\n",
        "      if not os.path.exists(folder_path):\n",
        "          os.mkdir(folder_path)\n",
        "      \n",
        "      for item in Item_dir:\n",
        "          source = os.path.join(path_train, item)\n",
        "          destination_dir = os.path.join(folder_path, item)\n",
        "          print(f\"memindahkan {source} ke {destination_dir}\")\n",
        "          os.rename(source, destination_dir)"
      ],
      "metadata": {
        "id": "WaIxTI_3Eez_"
      },
      "execution_count": null,
      "outputs": []
    },
    {
      "cell_type": "code",
      "source": [
        "organize_img(source_path_train)"
      ],
      "metadata": {
        "id": "LonxrfOQFBOR"
      },
      "execution_count": null,
      "outputs": []
    },
    {
      "cell_type": "code",
      "source": [
        "source_path_dogs = os.path.join(source_path_train, 'dog')\n",
        "source_path_cats = os.path.join(source_path_train,'cat')\n",
        "\n",
        "print(f'jumlah gambar anjing: {len(os.listdir(source_path_dogs))}')\n",
        "print(f'jumlah gambar kucing: {len(os.listdir(source_path_cats))}')"
      ],
      "metadata": {
        "colab": {
          "base_uri": "https://localhost:8080/"
        },
        "id": "CtmkCnrRFgtg",
        "outputId": "5d8b9428-a5e9-4d53-e8c2-187c32b5cc30"
      },
      "execution_count": null,
      "outputs": [
        {
          "output_type": "stream",
          "name": "stdout",
          "text": [
            "jumlah gambar anjing: 12500\n",
            "jumlah gambar kucing: 12500\n"
          ]
        }
      ]
    },
    {
      "cell_type": "markdown",
      "source": [
        "# Membuat directory untuk split dataset"
      ],
      "metadata": {
        "id": "Q4bgZotmGcKC"
      }
    },
    {
      "cell_type": "code",
      "source": [
        "root_dir = '/tmp/cats-v-dogs'\n",
        "\n",
        "if os.path.exists(root_dir):\n",
        "  shutil.rmtree(root_dir)\n",
        "\n",
        "def create_train_test_dirs(root_path):\n",
        "  try:\n",
        "    os.mkdir('/tmp/cats-v-dogs')\n",
        "    os.mkdir('/tmp/cats-v-dogs/training')\n",
        "    os.mkdir('/tmp/cats-v-dogs/testing')\n",
        "    os.mkdir('/tmp/cats-v-dogs/training/cats')\n",
        "    os.mkdir('/tmp/cats-v-dogs/training/dogs')\n",
        "    os.mkdir('/tmp/cats-v-dogs/testing/cats')\n",
        "    os.mkdir('/tmp/cats-v-dogs/testing/dogs')\n",
        "  except OSError:\n",
        "      print(\"Kamu udah buat directory ini\")\n",
        "\n",
        "try:\n",
        "  create_train_test_dirs(root_dir)\n",
        "except FileExistsError:\n",
        "  print(\"Anda seharusnya tidak melihat ini karena direktori atas telah dihapus sebelumnya\")"
      ],
      "metadata": {
        "id": "Y73h_LqBGi8X"
      },
      "execution_count": null,
      "outputs": []
    },
    {
      "cell_type": "code",
      "source": [
        "# check folder yang telah dibuat\n",
        "for rootdir, dirs, files in os.walk(root_dir):\n",
        "    for subdir in dirs:\n",
        "        print(os.path.join(rootdir, subdir))"
      ],
      "metadata": {
        "colab": {
          "base_uri": "https://localhost:8080/"
        },
        "id": "oeONcU_mHY3I",
        "outputId": "47783c10-9d79-4827-ae0b-66bc20709de0"
      },
      "execution_count": null,
      "outputs": [
        {
          "output_type": "stream",
          "name": "stdout",
          "text": [
            "/tmp/cats-v-dogs/training\n",
            "/tmp/cats-v-dogs/testing\n",
            "/tmp/cats-v-dogs/training/dogs\n",
            "/tmp/cats-v-dogs/training/cats\n",
            "/tmp/cats-v-dogs/testing/dogs\n",
            "/tmp/cats-v-dogs/testing/cats\n"
          ]
        }
      ]
    },
    {
      "cell_type": "markdown",
      "source": [
        "# Split Dataset"
      ],
      "metadata": {
        "id": "U2Ndc7_AHmN6"
      }
    },
    {
      "cell_type": "code",
      "source": [
        "def split_data(source, training, testing, split_size):\n",
        "  files = []\n",
        "  for name_file in os.listdir(source):\n",
        "    path_f = source+name_file\n",
        "    if os.path.getsize(path_f):\n",
        "      files.append(name_file)\n",
        "    else:\n",
        "      print(f'{name_file} is zero length, so ignoring')\n",
        "  n_files = len(files)\n",
        "  split_point = int(n_files*split_size)\n",
        "  shuffled = random.sample(files, n_files)\n",
        "\n",
        "  train_set = shuffled[:split_point]\n",
        "  test_set = shuffled[split_point:]\n",
        "\n",
        "  for file_name in train_set:\n",
        "    copyfile(source+file_name, training+file_name)\n",
        "\n",
        "  for file_name in test_set:\n",
        "    copyfile(source+file_name, testing+file_name)"
      ],
      "metadata": {
        "id": "1OmADLkpHpJI"
      },
      "execution_count": null,
      "outputs": []
    },
    {
      "cell_type": "code",
      "source": [
        "CAT_SOURCE_DIR = \"/tmp/PetImages/train/cat/\"\n",
        "DOG_SOURCE_DIR = \"/tmp/PetImages/train/dog/\"\n",
        "\n",
        "TRAINING_DIR = \"/tmp/cats-v-dogs/training/\"\n",
        "TESTING_DIR = \"/tmp/cats-v-dogs/testing/\"\n",
        "\n",
        "TRAINING_CATS_DIR = os.path.join(TRAINING_DIR, \"cats/\")\n",
        "TESTING_CATS_DIR = os.path.join(TESTING_DIR, \"cats/\")\n",
        "\n",
        "TRAINING_DOGS_DIR = os.path.join(TRAINING_DIR, \"dogs/\")\n",
        "TESTING_DOGS_DIR = os.path.join(TESTING_DIR, \"dogs/\")\n",
        "\n",
        "# Empty directories in case you run this cell multiple times\n",
        "if len(os.listdir(TRAINING_CATS_DIR)) > 0:\n",
        "  for file in os.scandir(TRAINING_CATS_DIR):\n",
        "    os.remove(file.path)\n",
        "if len(os.listdir(TRAINING_DOGS_DIR)) > 0:\n",
        "  for file in os.scandir(TRAINING_DOGS_DIR):\n",
        "    os.remove(file.path)\n",
        "if len(os.listdir(TESTING_CATS_DIR)) > 0:\n",
        "  for file in os.scandir(TESTING_CATS_DIR):\n",
        "    os.remove(file.path)\n",
        "if len(os.listdir(TESTING_DOGS_DIR)) > 0:\n",
        "  for file in os.scandir(TESTING_DOGS_DIR):\n",
        "    os.remove(file.path)\n",
        "\n",
        "# Define proportion of images used for training\n",
        "split_size = .9\n",
        "\n",
        "# Run the function\n",
        "# NOTE: Messages about zero length images should be printed out\n",
        "split_data(CAT_SOURCE_DIR, TRAINING_CATS_DIR, TESTING_CATS_DIR, split_size)\n",
        "split_data(DOG_SOURCE_DIR, TRAINING_DOGS_DIR, TESTING_DOGS_DIR, split_size)"
      ],
      "metadata": {
        "id": "bDLFE7hyKRDp"
      },
      "execution_count": null,
      "outputs": []
    },
    {
      "cell_type": "code",
      "source": [
        "# memeriksa hasil splitting data\n",
        "print(f\"\\n\\nThere are {len(os.listdir(TRAINING_CATS_DIR))} images of cats for training\")\n",
        "print(f\"There are {len(os.listdir(TRAINING_DOGS_DIR))} images of dogs for training\")\n",
        "print(f\"There are {len(os.listdir(TESTING_CATS_DIR))} images of cats for testing\")\n",
        "print(f\"There are {len(os.listdir(TESTING_DOGS_DIR))} images of dogs for testing\")"
      ],
      "metadata": {
        "colab": {
          "base_uri": "https://localhost:8080/"
        },
        "id": "NRx9Y6irKqR_",
        "outputId": "7b3af9b4-2b13-498c-e65a-05f560083699"
      },
      "execution_count": null,
      "outputs": [
        {
          "output_type": "stream",
          "name": "stdout",
          "text": [
            "\n",
            "\n",
            "There are 11250 images of cats for training\n",
            "There are 11250 images of dogs for training\n",
            "There are 1250 images of cats for testing\n",
            "There are 1250 images of dogs for testing\n"
          ]
        }
      ]
    },
    {
      "cell_type": "markdown",
      "source": [
        "# Prepare Dataset"
      ],
      "metadata": {
        "id": "US72gi7hK5kW"
      }
    },
    {
      "cell_type": "code",
      "source": [
        "def train_val_generators(training_dir, validation_dir):\n",
        "  train_datagen = ImageDataGenerator(rescale=1/255,\n",
        "                                     rotation_range=0.2,\n",
        "                                     width_shift_range=0.2,\n",
        "                                     height_shift_range=0.2,\n",
        "                                     shear_range=0.2,\n",
        "                                     zoom_range=0.2,\n",
        "                                     horizontal_flip=True,\n",
        "                                     fill_mode='nearest')\n",
        "  train_generator = train_datagen.flow_from_directory(directory=training_dir,\n",
        "                                                      batch_size=100,\n",
        "                                                      class_mode='binary',\n",
        "                                                      target_size=(150,150))\n",
        "  validation_datagen = ImageDataGenerator(rescale=1/255)\n",
        "  validation_generator = validation_datagen.flow_from_directory(directory=validation_dir,\n",
        "                                                      batch_size=100,\n",
        "                                                      class_mode='binary',\n",
        "                                                      target_size=(150,150))\n",
        "  return train_generator, validation_generator"
      ],
      "metadata": {
        "id": "DDL3_BsiK5Ve"
      },
      "execution_count": null,
      "outputs": []
    },
    {
      "cell_type": "code",
      "source": [
        "train_generator, validation_generator = train_val_generators(TRAINING_DIR, TESTING_DIR)"
      ],
      "metadata": {
        "colab": {
          "base_uri": "https://localhost:8080/"
        },
        "id": "U5UiaxAnrtL2",
        "outputId": "1ac278d2-bea9-4e7b-f322-6b1115f56f9a"
      },
      "execution_count": null,
      "outputs": [
        {
          "output_type": "stream",
          "name": "stdout",
          "text": [
            "Found 22500 images belonging to 2 classes.\n",
            "Found 2500 images belonging to 2 classes.\n"
          ]
        }
      ]
    },
    {
      "cell_type": "markdown",
      "source": [
        "# Arsitektur model"
      ],
      "metadata": {
        "id": "iaovtcNSr0mK"
      }
    },
    {
      "cell_type": "code",
      "source": [
        "def create_model():\n",
        "  model = tf.keras.models.Sequential([\n",
        "    tf.keras.layers.Conv2D(32,(3,3), activation='relu',kernel_initializer='he_uniform', padding='same', input_shape=(150,150,3)),\n",
        "    tf.keras.layers.MaxPooling2D(2, 2),\n",
        "    tf.keras.layers.Dropout(0.2),\n",
        "    tf.keras.layers.Conv2D(64, (3, 3), activation='relu', kernel_initializer='he_uniform', padding='same'),\n",
        "    tf.keras.layers.MaxPooling2D(2, 2),\n",
        "    tf.keras.layers.Dropout(0.2),\n",
        "    tf.keras.layers.Conv2D(128, (3, 3), activation='relu', kernel_initializer='he_uniform', padding='same'),\n",
        "    tf.keras.layers.MaxPooling2D(2, 2),\n",
        "    tf.keras.layers.Dropout(0.2),\n",
        "    tf.keras.layers.Flatten(),\n",
        "    tf.keras.layers.Dense(128, activation='relu'),\n",
        "    tf.keras.layers.Dropout(0.2),\n",
        "    tf.keras.layers.Dense(1, activation='sigmoid')\n",
        "  ])\n",
        "\n",
        "  model.compile(optimizer=tf.keras.optimizers.RMSprop(lr=0.001),\n",
        "                loss='binary_crossentropy',\n",
        "                metrics=['accuracy']) \n",
        "  return model"
      ],
      "metadata": {
        "id": "iSW_AZS-sFag"
      },
      "execution_count": null,
      "outputs": []
    },
    {
      "cell_type": "code",
      "source": [
        "model = create_model()\n",
        "model.summary()"
      ],
      "metadata": {
        "colab": {
          "base_uri": "https://localhost:8080/"
        },
        "id": "azungHU75eD5",
        "outputId": "26f2baea-c882-445a-80bc-f59695c087cf"
      },
      "execution_count": null,
      "outputs": [
        {
          "output_type": "stream",
          "name": "stdout",
          "text": [
            "Model: \"sequential_2\"\n",
            "_________________________________________________________________\n",
            " Layer (type)                Output Shape              Param #   \n",
            "=================================================================\n",
            " conv2d_6 (Conv2D)           (None, 150, 150, 32)      896       \n",
            "                                                                 \n",
            " max_pooling2d_6 (MaxPooling  (None, 75, 75, 32)       0         \n",
            " 2D)                                                             \n",
            "                                                                 \n",
            " dropout_4 (Dropout)         (None, 75, 75, 32)        0         \n",
            "                                                                 \n",
            " conv2d_7 (Conv2D)           (None, 75, 75, 64)        18496     \n",
            "                                                                 \n",
            " max_pooling2d_7 (MaxPooling  (None, 37, 37, 64)       0         \n",
            " 2D)                                                             \n",
            "                                                                 \n",
            " dropout_5 (Dropout)         (None, 37, 37, 64)        0         \n",
            "                                                                 \n",
            " conv2d_8 (Conv2D)           (None, 37, 37, 128)       73856     \n",
            "                                                                 \n",
            " max_pooling2d_8 (MaxPooling  (None, 18, 18, 128)      0         \n",
            " 2D)                                                             \n",
            "                                                                 \n",
            " dropout_6 (Dropout)         (None, 18, 18, 128)       0         \n",
            "                                                                 \n",
            " flatten_2 (Flatten)         (None, 41472)             0         \n",
            "                                                                 \n",
            " dense_4 (Dense)             (None, 128)               5308544   \n",
            "                                                                 \n",
            " dropout_7 (Dropout)         (None, 128)               0         \n",
            "                                                                 \n",
            " dense_5 (Dense)             (None, 1)                 129       \n",
            "                                                                 \n",
            "=================================================================\n",
            "Total params: 5,401,921\n",
            "Trainable params: 5,401,921\n",
            "Non-trainable params: 0\n",
            "_________________________________________________________________\n"
          ]
        },
        {
          "output_type": "stream",
          "name": "stderr",
          "text": [
            "/usr/local/lib/python3.7/dist-packages/keras/optimizer_v2/rmsprop.py:130: UserWarning: The `lr` argument is deprecated, use `learning_rate` instead.\n",
            "  super(RMSprop, self).__init__(name, **kwargs)\n"
          ]
        }
      ]
    },
    {
      "cell_type": "markdown",
      "source": [
        "# Train Model"
      ],
      "metadata": {
        "id": "N5E4uw84tBNT"
      }
    },
    {
      "cell_type": "code",
      "source": [
        "history = model.fit(train_generator,\n",
        "                    epochs=15,\n",
        "                    verbose=1,\n",
        "                    validation_data=validation_generator)"
      ],
      "metadata": {
        "colab": {
          "base_uri": "https://localhost:8080/"
        },
        "id": "cpqnpNoas87t",
        "outputId": "5f278673-3730-42e3-d8a5-0c63d18f3c73"
      },
      "execution_count": null,
      "outputs": [
        {
          "output_type": "stream",
          "name": "stdout",
          "text": [
            "Epoch 1/15\n",
            "225/225 [==============================] - 164s 724ms/step - loss: 1.0039 - accuracy: 0.5674 - val_loss: 0.6326 - val_accuracy: 0.6088\n",
            "Epoch 2/15\n",
            "225/225 [==============================] - 163s 724ms/step - loss: 0.6477 - accuracy: 0.6408 - val_loss: 0.5565 - val_accuracy: 0.7044\n",
            "Epoch 3/15\n",
            "225/225 [==============================] - 163s 726ms/step - loss: 0.5942 - accuracy: 0.6849 - val_loss: 0.5109 - val_accuracy: 0.7492\n",
            "Epoch 4/15\n",
            "225/225 [==============================] - 162s 721ms/step - loss: 0.5594 - accuracy: 0.7128 - val_loss: 0.4979 - val_accuracy: 0.7652\n",
            "Epoch 5/15\n",
            "225/225 [==============================] - 163s 724ms/step - loss: 0.5396 - accuracy: 0.7330 - val_loss: 0.4752 - val_accuracy: 0.7856\n",
            "Epoch 6/15\n",
            "225/225 [==============================] - 163s 723ms/step - loss: 0.5184 - accuracy: 0.7447 - val_loss: 0.5035 - val_accuracy: 0.7628\n",
            "Epoch 7/15\n",
            "225/225 [==============================] - 162s 719ms/step - loss: 0.5008 - accuracy: 0.7584 - val_loss: 0.3940 - val_accuracy: 0.8256\n",
            "Epoch 8/15\n",
            "225/225 [==============================] - 163s 722ms/step - loss: 0.4894 - accuracy: 0.7684 - val_loss: 0.3981 - val_accuracy: 0.8164\n",
            "Epoch 9/15\n",
            "225/225 [==============================] - 162s 720ms/step - loss: 0.4761 - accuracy: 0.7758 - val_loss: 0.4162 - val_accuracy: 0.8180\n",
            "Epoch 10/15\n",
            "225/225 [==============================] - 162s 721ms/step - loss: 0.4699 - accuracy: 0.7805 - val_loss: 0.4142 - val_accuracy: 0.8060\n",
            "Epoch 11/15\n",
            "225/225 [==============================] - 164s 727ms/step - loss: 0.4567 - accuracy: 0.7907 - val_loss: 0.3663 - val_accuracy: 0.8364\n",
            "Epoch 12/15\n",
            "225/225 [==============================] - 165s 732ms/step - loss: 0.4502 - accuracy: 0.7946 - val_loss: 0.3774 - val_accuracy: 0.8348\n",
            "Epoch 13/15\n",
            "225/225 [==============================] - 165s 734ms/step - loss: 0.4414 - accuracy: 0.7960 - val_loss: 0.3576 - val_accuracy: 0.8448\n",
            "Epoch 14/15\n",
            "225/225 [==============================] - 165s 734ms/step - loss: 0.4339 - accuracy: 0.8032 - val_loss: 0.3450 - val_accuracy: 0.8504\n",
            "Epoch 15/15\n",
            "225/225 [==============================] - 165s 733ms/step - loss: 0.4326 - accuracy: 0.8032 - val_loss: 0.3382 - val_accuracy: 0.8540\n"
          ]
        }
      ]
    },
    {
      "cell_type": "code",
      "source": [
        "def plot_loss_acc(history):\n",
        "  '''Plots the training and validation loss and accuracy from a history object'''\n",
        "  acc = history.history['accuracy']\n",
        "  val_acc = history.history['val_accuracy']\n",
        "  loss = history.history['loss']\n",
        "  val_loss = history.history['val_loss']\n",
        "\n",
        "  epochs = range(len(acc))\n",
        "\n",
        "  plt.plot(epochs, acc, 'r-', label='Training accuracy')\n",
        "  plt.plot(epochs, val_acc, 'b-', label='Validation accuracy')\n",
        "  plt.title('Training and validation accuracy')\n",
        "\n",
        "  plt.figure()\n",
        "\n",
        "  plt.plot(epochs, loss, 'r-', label='Training Loss')\n",
        "  plt.plot(epochs, val_loss, 'b-', label='Validation Loss')\n",
        "  plt.title('Training and validation loss')\n",
        "  plt.legend()\n",
        "\n",
        "  plt.show()"
      ],
      "metadata": {
        "id": "b0qfuVvFBsWL"
      },
      "execution_count": null,
      "outputs": []
    },
    {
      "cell_type": "code",
      "source": [
        "plot_loss_acc(history)"
      ],
      "metadata": {
        "colab": {
          "base_uri": "https://localhost:8080/",
          "height": 545
        },
        "id": "Wtr_XzMKPW29",
        "outputId": "59ebf295-a5e2-4583-82eb-1f51818aa62d"
      },
      "execution_count": null,
      "outputs": [
        {
          "output_type": "display_data",
          "data": {
            "text/plain": [
              "<Figure size 432x288 with 1 Axes>"
            ],
            "image/png": "[encoded data removed]"
          },
          "metadata": {
            "needs_background": "light"
          }
        },
        {
          "output_type": "display_data",
          "data": {
            "text/plain": [
              "<Figure size 432x288 with 1 Axes>"
            ],
            "image/png": "[encoded data removed]"
          },
          "metadata": {
            "needs_background": "light"
          }
        }
      ]
    },
    {
      "cell_type": "markdown",
      "source": [
        "# Uji Coba Model"
      ],
      "metadata": {
        "id": "P698RkiKsRYl"
      }
    },
    {
      "cell_type": "code",
      "source": [
        "import numpy as np\n",
        "\n",
        "from google.colab import files\n",
        "from keras.preprocessing import image\n",
        "\n",
        "uploaded=files.upload()\n",
        "\n",
        "for fn in uploaded.keys():\n",
        " \n",
        "  # predicting images\n",
        "  path='/content/' + fn\n",
        "  print(path)\n",
        "  img=image.load_img(path, target_size=(150, 150))\n",
        "  \n",
        "  x=image.img_to_array(img)\n",
        "  x /= 255\n",
        "  x=np.expand_dims(x, axis=0)\n",
        "  images = np.vstack([x])\n",
        "  \n",
        "  classes = model.predict(images, batch_size=10)\n",
        "  \n",
        "  print(classes[0])\n",
        "  \n",
        "  if classes[0]>0.5:\n",
        "    print(fn + \" ini adalah gambar anjing\")\n",
        "  else:\n",
        "    print(fn + \" ini adalah gambar kucing\")"
      ],
      "metadata": {
        "id": "xX8JlG_ZsQxe"
      },
      "execution_count": null,
      "outputs": []
    },
    {
      "cell_type": "markdown",
      "source": [
        "# Save Model"
      ],
      "metadata": {
        "id": "EaM2ip4etG8X"
      }
    },
    {
      "cell_type": "code",
      "source": [
        "model.save('my_model.h5')"
      ],
      "metadata": {
        "id": "46kdQBYotJH3"
      },
      "execution_count": null,
      "outputs": []
    }
  ]
}
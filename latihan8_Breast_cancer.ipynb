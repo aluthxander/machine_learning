{
  "cells": [
    {
      "cell_type": "markdown",
      "metadata": {
        "id": "346Q-0h3HWDK"
      },
      "source": [
        "# Import Package"
      ]
    },
    {
      "cell_type": "code",
      "execution_count": null,
      "metadata": {
        "id": "XuJA2gdmQgCm"
      },
      "outputs": [],
      "source": [
        "from jcopml.tuning import random_search_params as rsp\n",
        "import pandas as pd\n",
        "import numpy as np\n",
        "import seaborn as sns\n",
        "from sklearn.datasets import load_breast_cancer\n",
        "from sklearn.model_selection import train_test_split\n",
        "import matplotlib.pyplot as plt\n",
        "from sklearn.model_selection import GridSearchCV, RandomizedSearchCV\n",
        "from sklearn.pipeline import Pipeline\n",
        "from sklearn.impute import SimpleImputer, KNNImputer\n",
        "from sklearn.compose import ColumnTransformer\n",
        "from sklearn.preprocessing import OneHotEncoder, StandardScaler, MinMaxScaler, RobustScaler"
      ]
    },
    {
      "cell_type": "markdown",
      "metadata": {
        "id": "6ZSgpqrwHTEX"
      },
      "source": [
        "# Import Dataset"
      ]
    },
    {
      "cell_type": "code",
      "execution_count": null,
      "metadata": {
        "colab": {
          "base_uri": "https://localhost:8080/"
        },
        "id": "pqCPbfP1F5z5",
        "outputId": "5a219f44-dd47-45d8-c887-e2c38c452f54"
      },
      "outputs": [
        {
          "data": {
            "text/plain": [
              "((569, 30), (569,))"
            ]
          },
          "execution_count": 2,
          "metadata": {},
          "output_type": "execute_result"
        }
      ],
      "source": [
        "X, y = load_breast_cancer(return_X_y = True)\n",
        "X.shape, y.shape"
      ]
    },
    {
      "cell_type": "markdown",
      "metadata": {
        "id": "Ub7-U2X8HbEJ"
      },
      "source": [
        "# Melihat Missing Value"
      ]
    },
    {
      "cell_type": "code",
      "execution_count": null,
      "metadata": {
        "colab": {
          "base_uri": "https://localhost:8080/",
          "height": 456
        },
        "id": "cp1r_L6vG3RJ",
        "outputId": "b91f2178-b3ae-4571-9021-a4e029d5de32"
      },
      "outputs": [
        {
          "data": {
            "text/html": [
              "\n",
              "  <div id=\"df-c878cf8f-66a4-4ab2-a53a-1eba12ad9ae5\">\n",
              "    <div class=\"colab-df-container\">\n",
              "      <div>\n",
              "<style scoped>\n",
              "    .dataframe tbody tr th:only-of-type {\n",
              "        vertical-align: middle;\n",
              "    }\n",
              "\n",
              "    .dataframe tbody tr th {\n",
              "        vertical-align: top;\n",
              "    }\n",
              "\n",
              "    .dataframe thead th {\n",
              "        text-align: right;\n",
              "    }\n",
              "</style>\n",
              "<table border=\"1\" class=\"dataframe\">\n",
              "  <thead>\n",
              "    <tr style=\"text-align: right;\">\n",
              "      <th></th>\n",
              "      <th>0</th>\n",
              "      <th>1</th>\n",
              "      <th>2</th>\n",
              "      <th>3</th>\n",
              "      <th>4</th>\n",
              "      <th>5</th>\n",
              "      <th>6</th>\n",
              "      <th>7</th>\n",
              "      <th>8</th>\n",
              "      <th>9</th>\n",
              "      <th>...</th>\n",
              "      <th>21</th>\n",
              "      <th>22</th>\n",
              "      <th>23</th>\n",
              "      <th>24</th>\n",
              "      <th>25</th>\n",
              "      <th>26</th>\n",
              "      <th>27</th>\n",
              "      <th>28</th>\n",
              "      <th>29</th>\n",
              "      <th>Target</th>\n",
              "    </tr>\n",
              "  </thead>\n",
              "  <tbody>\n",
              "    <tr>\n",
              "      <th>0</th>\n",
              "      <td>17.99</td>\n",
              "      <td>10.38</td>\n",
              "      <td>122.80</td>\n",
              "      <td>1001.0</td>\n",
              "      <td>0.11840</td>\n",
              "      <td>0.27760</td>\n",
              "      <td>0.30010</td>\n",
              "      <td>0.14710</td>\n",
              "      <td>0.2419</td>\n",
              "      <td>0.07871</td>\n",
              "      <td>...</td>\n",
              "      <td>17.33</td>\n",
              "      <td>184.60</td>\n",
              "      <td>2019.0</td>\n",
              "      <td>0.1622</td>\n",
              "      <td>0.6656</td>\n",
              "      <td>0.7119</td>\n",
              "      <td>0.2654</td>\n",
              "      <td>0.4601</td>\n",
              "      <td>0.11890</td>\n",
              "      <td>0</td>\n",
              "    </tr>\n",
              "    <tr>\n",
              "      <th>1</th>\n",
              "      <td>20.57</td>\n",
              "      <td>17.77</td>\n",
              "      <td>132.90</td>\n",
              "      <td>1326.0</td>\n",
              "      <td>0.08474</td>\n",
              "      <td>0.07864</td>\n",
              "      <td>0.08690</td>\n",
              "      <td>0.07017</td>\n",
              "      <td>0.1812</td>\n",
              "      <td>0.05667</td>\n",
              "      <td>...</td>\n",
              "      <td>23.41</td>\n",
              "      <td>158.80</td>\n",
              "      <td>1956.0</td>\n",
              "      <td>0.1238</td>\n",
              "      <td>0.1866</td>\n",
              "      <td>0.2416</td>\n",
              "      <td>0.1860</td>\n",
              "      <td>0.2750</td>\n",
              "      <td>0.08902</td>\n",
              "      <td>0</td>\n",
              "    </tr>\n",
              "    <tr>\n",
              "      <th>2</th>\n",
              "      <td>19.69</td>\n",
              "      <td>21.25</td>\n",
              "      <td>130.00</td>\n",
              "      <td>1203.0</td>\n",
              "      <td>0.10960</td>\n",
              "      <td>0.15990</td>\n",
              "      <td>0.19740</td>\n",
              "      <td>0.12790</td>\n",
              "      <td>0.2069</td>\n",
              "      <td>0.05999</td>\n",
              "      <td>...</td>\n",
              "      <td>25.53</td>\n",
              "      <td>152.50</td>\n",
              "      <td>1709.0</td>\n",
              "      <td>0.1444</td>\n",
              "      <td>0.4245</td>\n",
              "      <td>0.4504</td>\n",
              "      <td>0.2430</td>\n",
              "      <td>0.3613</td>\n",
              "      <td>0.08758</td>\n",
              "      <td>0</td>\n",
              "    </tr>\n",
              "    <tr>\n",
              "      <th>3</th>\n",
              "      <td>11.42</td>\n",
              "      <td>20.38</td>\n",
              "      <td>77.58</td>\n",
              "      <td>386.1</td>\n",
              "      <td>0.14250</td>\n",
              "      <td>0.28390</td>\n",
              "      <td>0.24140</td>\n",
              "      <td>0.10520</td>\n",
              "      <td>0.2597</td>\n",
              "      <td>0.09744</td>\n",
              "      <td>...</td>\n",
              "      <td>26.50</td>\n",
              "      <td>98.87</td>\n",
              "      <td>567.7</td>\n",
              "      <td>0.2098</td>\n",
              "      <td>0.8663</td>\n",
              "      <td>0.6869</td>\n",
              "      <td>0.2575</td>\n",
              "      <td>0.6638</td>\n",
              "      <td>0.17300</td>\n",
              "      <td>0</td>\n",
              "    </tr>\n",
              "    <tr>\n",
              "      <th>4</th>\n",
              "      <td>20.29</td>\n",
              "      <td>14.34</td>\n",
              "      <td>135.10</td>\n",
              "      <td>1297.0</td>\n",
              "      <td>0.10030</td>\n",
              "      <td>0.13280</td>\n",
              "      <td>0.19800</td>\n",
              "      <td>0.10430</td>\n",
              "      <td>0.1809</td>\n",
              "      <td>0.05883</td>\n",
              "      <td>...</td>\n",
              "      <td>16.67</td>\n",
              "      <td>152.20</td>\n",
              "      <td>1575.0</td>\n",
              "      <td>0.1374</td>\n",
              "      <td>0.2050</td>\n",
              "      <td>0.4000</td>\n",
              "      <td>0.1625</td>\n",
              "      <td>0.2364</td>\n",
              "      <td>0.07678</td>\n",
              "      <td>0</td>\n",
              "    </tr>\n",
              "    <tr>\n",
              "      <th>5</th>\n",
              "      <td>12.45</td>\n",
              "      <td>15.70</td>\n",
              "      <td>82.57</td>\n",
              "      <td>477.1</td>\n",
              "      <td>0.12780</td>\n",
              "      <td>0.17000</td>\n",
              "      <td>0.15780</td>\n",
              "      <td>0.08089</td>\n",
              "      <td>0.2087</td>\n",
              "      <td>0.07613</td>\n",
              "      <td>...</td>\n",
              "      <td>23.75</td>\n",
              "      <td>103.40</td>\n",
              "      <td>741.6</td>\n",
              "      <td>0.1791</td>\n",
              "      <td>0.5249</td>\n",
              "      <td>0.5355</td>\n",
              "      <td>0.1741</td>\n",
              "      <td>0.3985</td>\n",
              "      <td>0.12440</td>\n",
              "      <td>0</td>\n",
              "    </tr>\n",
              "    <tr>\n",
              "      <th>6</th>\n",
              "      <td>18.25</td>\n",
              "      <td>19.98</td>\n",
              "      <td>119.60</td>\n",
              "      <td>1040.0</td>\n",
              "      <td>0.09463</td>\n",
              "      <td>0.10900</td>\n",
              "      <td>0.11270</td>\n",
              "      <td>0.07400</td>\n",
              "      <td>0.1794</td>\n",
              "      <td>0.05742</td>\n",
              "      <td>...</td>\n",
              "      <td>27.66</td>\n",
              "      <td>153.20</td>\n",
              "      <td>1606.0</td>\n",
              "      <td>0.1442</td>\n",
              "      <td>0.2576</td>\n",
              "      <td>0.3784</td>\n",
              "      <td>0.1932</td>\n",
              "      <td>0.3063</td>\n",
              "      <td>0.08368</td>\n",
              "      <td>0</td>\n",
              "    </tr>\n",
              "    <tr>\n",
              "      <th>7</th>\n",
              "      <td>13.71</td>\n",
              "      <td>20.83</td>\n",
              "      <td>90.20</td>\n",
              "      <td>577.9</td>\n",
              "      <td>0.11890</td>\n",
              "      <td>0.16450</td>\n",
              "      <td>0.09366</td>\n",
              "      <td>0.05985</td>\n",
              "      <td>0.2196</td>\n",
              "      <td>0.07451</td>\n",
              "      <td>...</td>\n",
              "      <td>28.14</td>\n",
              "      <td>110.60</td>\n",
              "      <td>897.0</td>\n",
              "      <td>0.1654</td>\n",
              "      <td>0.3682</td>\n",
              "      <td>0.2678</td>\n",
              "      <td>0.1556</td>\n",
              "      <td>0.3196</td>\n",
              "      <td>0.11510</td>\n",
              "      <td>0</td>\n",
              "    </tr>\n",
              "    <tr>\n",
              "      <th>8</th>\n",
              "      <td>13.00</td>\n",
              "      <td>21.82</td>\n",
              "      <td>87.50</td>\n",
              "      <td>519.8</td>\n",
              "      <td>0.12730</td>\n",
              "      <td>0.19320</td>\n",
              "      <td>0.18590</td>\n",
              "      <td>0.09353</td>\n",
              "      <td>0.2350</td>\n",
              "      <td>0.07389</td>\n",
              "      <td>...</td>\n",
              "      <td>30.73</td>\n",
              "      <td>106.20</td>\n",
              "      <td>739.3</td>\n",
              "      <td>0.1703</td>\n",
              "      <td>0.5401</td>\n",
              "      <td>0.5390</td>\n",
              "      <td>0.2060</td>\n",
              "      <td>0.4378</td>\n",
              "      <td>0.10720</td>\n",
              "      <td>0</td>\n",
              "    </tr>\n",
              "    <tr>\n",
              "      <th>9</th>\n",
              "      <td>12.46</td>\n",
              "      <td>24.04</td>\n",
              "      <td>83.97</td>\n",
              "      <td>475.9</td>\n",
              "      <td>0.11860</td>\n",
              "      <td>0.23960</td>\n",
              "      <td>0.22730</td>\n",
              "      <td>0.08543</td>\n",
              "      <td>0.2030</td>\n",
              "      <td>0.08243</td>\n",
              "      <td>...</td>\n",
              "      <td>40.68</td>\n",
              "      <td>97.65</td>\n",
              "      <td>711.4</td>\n",
              "      <td>0.1853</td>\n",
              "      <td>1.0580</td>\n",
              "      <td>1.1050</td>\n",
              "      <td>0.2210</td>\n",
              "      <td>0.4366</td>\n",
              "      <td>0.20750</td>\n",
              "      <td>0</td>\n",
              "    </tr>\n",
              "  </tbody>\n",
              "</table>\n",
              "<p>10 rows × 31 columns</p>\n",
              "</div>\n",
              "      <button class=\"colab-df-convert\" onclick=\"convertToInteractive('df-c878cf8f-66a4-4ab2-a53a-1eba12ad9ae5')\"\n",
              "              title=\"Convert this dataframe to an interactive table.\"\n",
              "              style=\"display:none;\">\n",
              "        \n",
              "  <svg xmlns=\"http://www.w3.org/2000/svg\" height=\"24px\"viewBox=\"0 0 24 24\"\n",
              "       width=\"24px\">\n",
              "    <path d=\"M0 0h24v24H0V0z\" fill=\"none\"/>\n",
              "    <path d=\"M18.56 5.44l.94 2.06.94-2.06 2.06-.94-2.06-.94-.94-2.06-.94 2.06-2.06.94zm-11 1L8.5 8.5l.94-2.06 2.06-.94-2.06-.94L8.5 2.5l-.94 2.06-2.06.94zm10 10l.94 2.06.94-2.06 2.06-.94-2.06-.94-.94-2.06-.94 2.06-2.06.94z\"/><path d=\"M17.41 7.96l-1.37-1.37c-.4-.4-.92-.59-1.43-.59-.52 0-1.04.2-1.43.59L10.3 9.45l-7.72 7.72c-.78.78-.78 2.05 0 2.83L4 21.41c.39.39.9.59 1.41.59.51 0 1.02-.2 1.41-.59l7.78-7.78 2.81-2.81c.8-.78.8-2.07 0-2.86zM5.41 20L4 18.59l7.72-7.72 1.47 1.35L5.41 20z\"/>\n",
              "  </svg>\n",
              "      </button>\n",
              "      \n",
              "  <style>\n",
              "    .colab-df-container {\n",
              "      display:flex;\n",
              "      flex-wrap:wrap;\n",
              "      gap: 12px;\n",
              "    }\n",
              "\n",
              "    .colab-df-convert {\n",
              "      background-color: #E8F0FE;\n",
              "      border: none;\n",
              "      border-radius: 50%;\n",
              "      cursor: pointer;\n",
              "      display: none;\n",
              "      fill: #1967D2;\n",
              "      height: 32px;\n",
              "      padding: 0 0 0 0;\n",
              "      width: 32px;\n",
              "    }\n",
              "\n",
              "    .colab-df-convert:hover {\n",
              "      background-color: #E2EBFA;\n",
              "      box-shadow: 0px 1px 2px rgba(60, 64, 67, 0.3), 0px 1px 3px 1px rgba(60, 64, 67, 0.15);\n",
              "      fill: #174EA6;\n",
              "    }\n",
              "\n",
              "    [theme=dark] .colab-df-convert {\n",
              "      background-color: #3B4455;\n",
              "      fill: #D2E3FC;\n",
              "    }\n",
              "\n",
              "    [theme=dark] .colab-df-convert:hover {\n",
              "      background-color: #434B5C;\n",
              "      box-shadow: 0px 1px 3px 1px rgba(0, 0, 0, 0.15);\n",
              "      filter: drop-shadow(0px 1px 2px rgba(0, 0, 0, 0.3));\n",
              "      fill: #FFFFFF;\n",
              "    }\n",
              "  </style>\n",
              "\n",
              "      <script>\n",
              "        const buttonEl =\n",
              "          document.querySelector('#df-c878cf8f-66a4-4ab2-a53a-1eba12ad9ae5 button.colab-df-convert');\n",
              "        buttonEl.style.display =\n",
              "          google.colab.kernel.accessAllowed ? 'block' : 'none';\n",
              "\n",
              "        async function convertToInteractive(key) {\n",
              "          const element = document.querySelector('#df-c878cf8f-66a4-4ab2-a53a-1eba12ad9ae5');\n",
              "          const dataTable =\n",
              "            await google.colab.kernel.invokeFunction('convertToInteractive',\n",
              "                                                     [key], {});\n",
              "          if (!dataTable) return;\n",
              "\n",
              "          const docLinkHtml = 'Like what you see? Visit the ' +\n",
              "            '<a target=\"_blank\" href=https://colab.research.google.com/notebooks/data_table.ipynb>data table notebook</a>'\n",
              "            + ' to learn more about interactive tables.';\n",
              "          element.innerHTML = '';\n",
              "          dataTable['output_type'] = 'display_data';\n",
              "          await google.colab.output.renderOutput(dataTable, element);\n",
              "          const docLink = document.createElement('div');\n",
              "          docLink.innerHTML = docLinkHtml;\n",
              "          element.appendChild(docLink);\n",
              "        }\n",
              "      </script>\n",
              "    </div>\n",
              "  </div>\n",
              "  "
            ],
            "text/plain": [
              "       0      1       2       3        4        5        6        7       8  \\\n",
              "0  17.99  10.38  122.80  1001.0  0.11840  0.27760  0.30010  0.14710  0.2419   \n",
              "1  20.57  17.77  132.90  1326.0  0.08474  0.07864  0.08690  0.07017  0.1812   \n",
              "2  19.69  21.25  130.00  1203.0  0.10960  0.15990  0.19740  0.12790  0.2069   \n",
              "3  11.42  20.38   77.58   386.1  0.14250  0.28390  0.24140  0.10520  0.2597   \n",
              "4  20.29  14.34  135.10  1297.0  0.10030  0.13280  0.19800  0.10430  0.1809   \n",
              "5  12.45  15.70   82.57   477.1  0.12780  0.17000  0.15780  0.08089  0.2087   \n",
              "6  18.25  19.98  119.60  1040.0  0.09463  0.10900  0.11270  0.07400  0.1794   \n",
              "7  13.71  20.83   90.20   577.9  0.11890  0.16450  0.09366  0.05985  0.2196   \n",
              "8  13.00  21.82   87.50   519.8  0.12730  0.19320  0.18590  0.09353  0.2350   \n",
              "9  12.46  24.04   83.97   475.9  0.11860  0.23960  0.22730  0.08543  0.2030   \n",
              "\n",
              "         9  ...     21      22      23      24      25      26      27  \\\n",
              "0  0.07871  ...  17.33  184.60  2019.0  0.1622  0.6656  0.7119  0.2654   \n",
              "1  0.05667  ...  23.41  158.80  1956.0  0.1238  0.1866  0.2416  0.1860   \n",
              "2  0.05999  ...  25.53  152.50  1709.0  0.1444  0.4245  0.4504  0.2430   \n",
              "3  0.09744  ...  26.50   98.87   567.7  0.2098  0.8663  0.6869  0.2575   \n",
              "4  0.05883  ...  16.67  152.20  1575.0  0.1374  0.2050  0.4000  0.1625   \n",
              "5  0.07613  ...  23.75  103.40   741.6  0.1791  0.5249  0.5355  0.1741   \n",
              "6  0.05742  ...  27.66  153.20  1606.0  0.1442  0.2576  0.3784  0.1932   \n",
              "7  0.07451  ...  28.14  110.60   897.0  0.1654  0.3682  0.2678  0.1556   \n",
              "8  0.07389  ...  30.73  106.20   739.3  0.1703  0.5401  0.5390  0.2060   \n",
              "9  0.08243  ...  40.68   97.65   711.4  0.1853  1.0580  1.1050  0.2210   \n",
              "\n",
              "       28       29  Target  \n",
              "0  0.4601  0.11890       0  \n",
              "1  0.2750  0.08902       0  \n",
              "2  0.3613  0.08758       0  \n",
              "3  0.6638  0.17300       0  \n",
              "4  0.2364  0.07678       0  \n",
              "5  0.3985  0.12440       0  \n",
              "6  0.3063  0.08368       0  \n",
              "7  0.3196  0.11510       0  \n",
              "8  0.4378  0.10720       0  \n",
              "9  0.4366  0.20750       0  \n",
              "\n",
              "[10 rows x 31 columns]"
            ]
          },
          "execution_count": 3,
          "metadata": {},
          "output_type": "execute_result"
        }
      ],
      "source": [
        "df = pd.DataFrame(X)\n",
        "df[\"Target\"] = y\n",
        "df.head(10)"
      ]
    },
    {
      "cell_type": "code",
      "execution_count": null,
      "metadata": {
        "colab": {
          "base_uri": "https://localhost:8080/"
        },
        "id": "W92VUHaXIAQ6",
        "outputId": "6128f14d-2ef4-4c04-be5f-d8ec18d3fb47"
      },
      "outputs": [
        {
          "data": {
            "text/plain": [
              "0         0\n",
              "1         0\n",
              "2         0\n",
              "3         0\n",
              "4         0\n",
              "5         0\n",
              "6         0\n",
              "7         0\n",
              "8         0\n",
              "9         0\n",
              "10        0\n",
              "11        0\n",
              "12        0\n",
              "13        0\n",
              "14        0\n",
              "15        0\n",
              "16        0\n",
              "17        0\n",
              "18        0\n",
              "19        0\n",
              "20        0\n",
              "21        0\n",
              "22        0\n",
              "23        0\n",
              "24        0\n",
              "25        0\n",
              "26        0\n",
              "27        0\n",
              "28        0\n",
              "29        0\n",
              "Target    0\n",
              "dtype: int64"
            ]
          },
          "execution_count": 4,
          "metadata": {},
          "output_type": "execute_result"
        }
      ],
      "source": [
        "df.isna().sum()"
      ]
    },
    {
      "cell_type": "code",
      "execution_count": null,
      "metadata": {
        "colab": {
          "base_uri": "https://localhost:8080/",
          "height": 320
        },
        "id": "Iu-gp4LsIHN6",
        "outputId": "85ed38cd-3c3f-4d57-a4ef-d1f2be92dc4a"
      },
      "outputs": [
        {
          "data": {
            "image/png": "[encoded data removed]",
            "text/plain": [
              "<Figure size 1080x504 with 1 Axes>"
            ]
          },
          "metadata": {
            "needs_background": "light"
          },
          "output_type": "display_data"
        }
      ],
      "source": [
        "plt.figure(figsize=(15,7))\n",
        "sns.heatmap(df.isnull(), yticklabels=False, cbar=False, cmap='coolwarm');"
      ]
    },
    {
      "cell_type": "markdown",
      "metadata": {
        "id": "TEUp7S1GH4Pf"
      },
      "source": [
        "# Splitted Dataset"
      ]
    },
    {
      "cell_type": "code",
      "execution_count": null,
      "metadata": {
        "colab": {
          "base_uri": "https://localhost:8080/"
        },
        "id": "0JlqlG-ZH3kI",
        "outputId": "0582f7b6-b96a-48c6-a763-e2001fc944a3"
      },
      "outputs": [
        {
          "name": "stdout",
          "output_type": "stream",
          "text": [
            "(398, 30) (171, 30) (398,) (171,)\n"
          ]
        }
      ],
      "source": [
        "X = df.drop(columns='Target')\n",
        "y = df.Target\n",
        "\n",
        "X_train, X_test, y_train, y_test = train_test_split(X,y, test_size=0.3, random_state=42)\n",
        "print(X_train.shape, X_test.shape, y_train.shape, y_test.shape)"
      ]
    },
    {
      "cell_type": "code",
      "execution_count": null,
      "metadata": {
        "id": "TBlCteruMPEk"
      },
      "outputs": [],
      "source": [
        "models_train = []\n",
        "models_best_score = []\n",
        "models_test = []\n",
        "name_models = []"
      ]
    },
    {
      "cell_type": "markdown",
      "metadata": {
        "id": "lsMIwxuOI8kc"
      },
      "source": [
        "# LogisticRegression"
      ]
    },
    {
      "cell_type": "code",
      "execution_count": null,
      "metadata": {
        "id": "zNGU-4PKJLoZ"
      },
      "outputs": [],
      "source": [
        "from sklearn.linear_model import LogisticRegression"
      ]
    },
    {
      "cell_type": "code",
      "execution_count": null,
      "metadata": {
        "colab": {
          "base_uri": "https://localhost:8080/"
        },
        "id": "IR2aivVzHapl",
        "outputId": "3d626fe0-7815-475f-b72a-caf1f97fe521"
      },
      "outputs": [
        {
          "name": "stdout",
          "output_type": "stream",
          "text": [
            "Fitting 3 folds for each of 14 candidates, totalling 42 fits\n",
            "{'algo__C': 1.0, 'algo__fit_intercept': True}\n",
            "0.9874371859296482 0.9697919040024304 0.9883040935672515\n"
          ]
        }
      ],
      "source": [
        "num_pip = Pipeline([\n",
        "  ('imputer', SimpleImputer(strategy=\"mean\")),\n",
        "  ('scaler', RobustScaler())\n",
        "])\n",
        "\n",
        "preprocessor = ColumnTransformer([\n",
        "  ('numerical', num_pip, X_train.columns)\n",
        "])\n",
        "\n",
        "pipeline = Pipeline([\n",
        "  ('prep', preprocessor),\n",
        "  ('algo', LogisticRegression())\n",
        "])\n",
        "\n",
        "params = {\n",
        "    \"algo__fit_intercept\": [True, False],\n",
        "    \"algo__C\": np.logspace(-3, 3, 7)\n",
        "}\n",
        "\n",
        "model_Logistic = GridSearchCV(pipeline, params, cv=3, n_jobs=-1, verbose=1)\n",
        "model_Logistic.fit(X_train, y_train)\n",
        "\n",
        "model_train_log = model_Logistic.score(X_train, y_train)\n",
        "model_test_log = model_Logistic.score(X_test, y_test)\n",
        "model_best_log = model_Logistic.best_score_\n",
        "\n",
        "models_train.append(model_train_log)\n",
        "models_test.append(model_test_log)\n",
        "models_best_score.append(model_best_log)\n",
        "name_models.append(\"Logistic Linier\")\n",
        "\n",
        "print(model_Logistic.best_params_)\n",
        "print(model_Logistic.score(X_train, y_train),model_Logistic.best_score_, model_Logistic.score(X_test, y_test))"
      ]
    },
    {
      "cell_type": "markdown",
      "metadata": {
        "id": "XpoAh9rFMmvs"
      },
      "source": [
        "# Naive Bayes"
      ]
    },
    {
      "cell_type": "code",
      "execution_count": null,
      "metadata": {
        "id": "nMuqjZcWMsDE"
      },
      "outputs": [],
      "source": [
        "from sklearn.naive_bayes import GaussianNB"
      ]
    },
    {
      "cell_type": "code",
      "execution_count": null,
      "metadata": {
        "colab": {
          "base_uri": "https://localhost:8080/"
        },
        "id": "irBEQ6cnNh6F",
        "outputId": "be32c2f6-9de1-40bf-aa3f-2f5a4701e6b8"
      },
      "outputs": [
        {
          "name": "stdout",
          "output_type": "stream",
          "text": [
            "Fitting 10 folds for each of 100 candidates, totalling 1000 fits\n",
            "{'algo__var_smoothing': 0.15199110829529336}\n",
            "0.9422110552763819 0.9346794871794872 0.9473684210526315\n"
          ]
        }
      ],
      "source": [
        "num_pip = Pipeline([\n",
        "  ('scaler', StandardScaler())\n",
        "])\n",
        "\n",
        "preprocessor = ColumnTransformer([\n",
        "  ('numerical', num_pip, X_train.columns)\n",
        "])\n",
        "\n",
        "pipeline = Pipeline([\n",
        "  ('prep', preprocessor),\n",
        "  ('algo', GaussianNB())\n",
        "])\n",
        "\n",
        "param_grid_nb = {\n",
        "    'algo__var_smoothing': np.logspace(0,-9, num=100)\n",
        "}\n",
        "\n",
        "model_naiveBayes = GridSearchCV(pipeline, param_grid_nb, verbose=1, cv=10, n_jobs=-1)\n",
        "model_naiveBayes.fit(X_train, y_train)\n",
        "\n",
        "model_train_naiveBayes = model_naiveBayes.score(X_train, y_train)\n",
        "model_test_naiveBayes = model_naiveBayes.score(X_test, y_test)\n",
        "model_best_naiveBayes = model_naiveBayes.best_score_\n",
        "\n",
        "models_train.append(model_train_naiveBayes)\n",
        "models_test.append(model_test_naiveBayes)\n",
        "models_best_score.append(model_best_naiveBayes)\n",
        "name_models.append(\"Naive Bayes\")\n",
        "\n",
        "print(model_naiveBayes.best_params_)\n",
        "print(model_naiveBayes.score(X_train, y_train),model_naiveBayes.best_score_, model_naiveBayes.score(X_test, y_test))"
      ]
    },
    {
      "cell_type": "markdown",
      "metadata": {
        "id": "kpGaPTgOQwGP"
      },
      "source": [
        "# Decision Tree"
      ]
    },
    {
      "cell_type": "code",
      "execution_count": null,
      "metadata": {
        "id": "EfesiGDWQy9l"
      },
      "outputs": [],
      "source": [
        "from sklearn.tree import DecisionTreeClassifier"
      ]
    },
    {
      "cell_type": "code",
      "execution_count": null,
      "metadata": {
        "colab": {
          "base_uri": "https://localhost:8080/"
        },
        "id": "faiRlwj0R03F",
        "outputId": "233ca03e-8c68-4d0f-e885-27e6971c2f99"
      },
      "outputs": [
        {
          "name": "stdout",
          "output_type": "stream",
          "text": [
            "Fitting 10 folds for each of 12 candidates, totalling 120 fits\n",
            "{'criterion': 'entropy', 'max_depth': 12}\n",
            "1.0 0.939551282051282 0.9590643274853801\n"
          ]
        }
      ],
      "source": [
        "param_grid_nb = {\n",
        "    'criterion': ['gini', 'entropy'],\n",
        "    'max_depth': [2,4,6,8,10,12]\n",
        "}\n",
        "\n",
        "model_Dec_tree = GridSearchCV(estimator=DecisionTreeClassifier(), \n",
        "                                param_grid=param_grid_nb, \n",
        "                                verbose=1, \n",
        "                                cv=10, \n",
        "                                n_jobs=-1)\n",
        "model_Dec_tree.fit(X_train, y_train)\n",
        "\n",
        "model_train_DecTree = model_Dec_tree.score(X_train, y_train)\n",
        "model_test_DecTree = model_Dec_tree.score(X_test, y_test)\n",
        "model_best_DecTree = model_Dec_tree.best_score_\n",
        "\n",
        "models_train.append(model_train_DecTree)\n",
        "models_test.append(model_test_DecTree)\n",
        "models_best_score.append(model_best_DecTree)\n",
        "name_models.append(\"Decesion Tree\")\n",
        "\n",
        "print(model_Dec_tree.best_params_)\n",
        "print(model_Dec_tree.score(X_train, y_train),model_Dec_tree.best_score_, model_Dec_tree.score(X_test, y_test))"
      ]
    },
    {
      "cell_type": "markdown",
      "metadata": {
        "id": "noTmS0vgSyQM"
      },
      "source": [
        "# XGBoost"
      ]
    },
    {
      "cell_type": "code",
      "execution_count": null,
      "metadata": {
        "id": "rbjS9s9dg68x"
      },
      "outputs": [],
      "source": [
        "!pip install luwiji"
      ]
    },
    {
      "cell_type": "code",
      "execution_count": null,
      "metadata": {
        "id": "upYT3E5kHGHg"
      },
      "outputs": [],
      "source": [
        "from xgboost import XGBClassifier"
      ]
    },
    {
      "cell_type": "code",
      "execution_count": null,
      "metadata": {
        "colab": {
          "base_uri": "https://localhost:8080/"
        },
        "id": "TzxRNdpNLCiA",
        "outputId": "9d78f0f5-53bb-4070-904c-e1ec6907c81e"
      },
      "outputs": [
        {
          "name": "stdout",
          "output_type": "stream",
          "text": [
            "Fitting 3 folds for each of 100 candidates, totalling 300 fits\n",
            "{'algo__colsample_bytree': 0.18044589063828517, 'algo__gamma': 2, 'algo__learning_rate': 0.16491719433987026, 'algo__max_depth': 10, 'algo__n_estimators': 179, 'algo__reg_alpha': 0.5130551855922006, 'algo__reg_lambda': 0.0025596567717499747, 'algo__subsample': 0.6933746685388666}\n",
            "1.0 0.967304625199362 0.9649122807017544\n"
          ]
        }
      ],
      "source": [
        "model_xgboost = RandomizedSearchCV(estimator=XGBClassifier(n_jobs=-1, random_state=42), \n",
        "                                param_distributions=rsp.xgb_params, \n",
        "                                n_iter=100,\n",
        "                                verbose=1, \n",
        "                                cv=3, \n",
        "                                n_jobs=-1)\n",
        "model_xgboost.fit(X_train, y_train)\n",
        "\n",
        "model_train_xgboost = model_xgboost.score(X_train, y_train)\n",
        "model_test_xgboost = model_xgboost.score(X_test, y_test)\n",
        "model_best_xgboost = model_xgboost.best_score_\n",
        "\n",
        "models_train.append(model_train_xgboost)\n",
        "models_test.append(model_test_xgboost)\n",
        "models_best_score.append(model_best_xgboost)\n",
        "name_models.append(\"XGBoost\")\n",
        "\n",
        "print(model_xgboost.best_params_)\n",
        "print(model_xgboost.score(X_train, y_train),model_xgboost.best_score_, model_xgboost.score(X_test, y_test))"
      ]
    },
    {
      "cell_type": "markdown",
      "metadata": {
        "id": "4va3HjXra9EV"
      },
      "source": [
        "# Random Forest"
      ]
    },
    {
      "cell_type": "code",
      "execution_count": null,
      "metadata": {
        "id": "Vhk2b0V0bRKg"
      },
      "outputs": [],
      "source": [
        "from sklearn.ensemble import RandomForestClassifier"
      ]
    },
    {
      "cell_type": "code",
      "execution_count": null,
      "metadata": {
        "colab": {
          "base_uri": "https://localhost:8080/"
        },
        "id": "KoIZacK8bhPc",
        "outputId": "b62f137f-1b33-4d0e-8b87-1c13167cc132"
      },
      "outputs": [
        {
          "name": "stdout",
          "output_type": "stream",
          "text": [
            "Fitting 3 folds for each of 81 candidates, totalling 243 fits\n",
            "{'max_depth': 20, 'max_features': 0.3, 'min_samples_leaf': 1, 'n_estimators': 150}\n",
            "1.0 0.957222601959444 0.9649122807017544\n"
          ]
        }
      ],
      "source": [
        "params = {\n",
        "    \"n_estimators\": [100, 150, 200],\n",
        "    \"max_depth\": [20, 50, 80],\n",
        "    \"max_features\": [0.3, 0.6, 0.8],\n",
        "    \"min_samples_leaf\": [1, 5, 10]\n",
        "}\n",
        "model = RandomForestClassifier(n_jobs=-1, random_state=42)\n",
        "model_RandForest = GridSearchCV(estimator=model, \n",
        "                                param_grid=params,\n",
        "                                verbose=1, \n",
        "                                cv=3, \n",
        "                                n_jobs=-1)\n",
        "model_RandForest.fit(X_train, y_train)\n",
        "\n",
        "model_train_RandForest = model_RandForest.score(X_train, y_train)\n",
        "model_test_RandForest = model_RandForest.score(X_test, y_test)\n",
        "model_best_RandForest = model_RandForest.best_score_\n",
        "\n",
        "models_train.append(model_train_RandForest)\n",
        "models_test.append(model_test_RandForest)\n",
        "models_best_score.append(model_best_RandForest)\n",
        "name_models.append(\"Random Forest\")\n",
        "\n",
        "print(model_RandForest.best_params_)\n",
        "print(model_RandForest.score(X_train, y_train),model_RandForest.best_score_, model_xgboost.score(X_test, y_test))"
      ]
    },
    {
      "cell_type": "markdown",
      "metadata": {
        "id": "eNUBERXtfg8j"
      },
      "source": [
        "# SVM"
      ]
    },
    {
      "cell_type": "code",
      "execution_count": null,
      "metadata": {
        "id": "plZ39zrYgNJR"
      },
      "outputs": [],
      "source": [
        "from sklearn.svm import SVC"
      ]
    },
    {
      "cell_type": "code",
      "execution_count": null,
      "metadata": {
        "colab": {
          "base_uri": "https://localhost:8080/"
        },
        "id": "qwc7nngrfich",
        "outputId": "777e9d3b-3fd6-465c-b73b-6eb64bb6ddeb"
      },
      "outputs": [
        {
          "name": "stdout",
          "output_type": "stream",
          "text": [
            "Fitting 3 folds for each of 49 candidates, totalling 147 fits\n",
            "{'algo__C': 100.0, 'algo__gamma': 0.001}\n",
            "0.9899497487437185 0.9723171565276828 0.9824561403508771\n"
          ]
        }
      ],
      "source": [
        "num_pip = Pipeline([\n",
        "  ('scaler', RobustScaler())\n",
        "])\n",
        "\n",
        "preprocessor = ColumnTransformer([\n",
        "  ('numerical', num_pip, X_train.columns)\n",
        "])\n",
        "\n",
        "pipeline = Pipeline([\n",
        "  ('prep', preprocessor),\n",
        "  ('algo', SVC(max_iter=500))\n",
        "])\n",
        "\n",
        "params = {\"algo__gamma\": np.logspace(-3, 3, 7),\n",
        "          \"algo__C\": np.logspace(-3, 3, 7)\n",
        "        }\n",
        "model_SVC = GridSearchCV(pipeline, params, cv=3, n_jobs=-1, verbose=1)\n",
        "model_SVC.fit(X_train, y_train)\n",
        "\n",
        "model_train_SVC = model_SVC.score(X_train, y_train)\n",
        "model_test_SVC = model_SVC.score(X_test, y_test)\n",
        "model_best_SVC = model_SVC.best_score_\n",
        "\n",
        "models_train.append(model_train_SVC)\n",
        "models_test.append(model_test_SVC)\n",
        "models_best_score.append(model_best_SVC)\n",
        "name_models.append(\"SVM\")\n",
        "\n",
        "print(model_SVC.best_params_)\n",
        "print(model_SVC.score(X_train, y_train),model_SVC.best_score_, model_SVC.score(X_test, y_test))"
      ]
    },
    {
      "cell_type": "markdown",
      "metadata": {
        "id": "hkyiJPGluLm_"
      },
      "source": [
        "# Plot hasil train model"
      ]
    },
    {
      "cell_type": "code",
      "execution_count": null,
      "metadata": {
        "colab": {
          "base_uri": "https://localhost:8080/",
          "height": 450
        },
        "id": "IsjwUjyYuRTb",
        "outputId": "84007c09-062f-42b3-f3fb-aac34206ba00"
      },
      "outputs": [
        {
          "data": {
            "image/png": "[encoded data removed]",
            "text/plain": [
              "<Figure size 648x504 with 1 Axes>"
            ]
          },
          "metadata": {
            "needs_background": "light"
          },
          "output_type": "display_data"
        }
      ],
      "source": [
        "fig = plt.figure() \n",
        "fig.set_size_inches(9,7)\n",
        "w = 0.25\n",
        "bar1 = np.arange(len(name_models))\n",
        "bar2 = [i+w for i in bar1]\n",
        "bar3 = [i+w for i in bar2]\n",
        "\n",
        "plt.bar(bar1, models_train, w, label='Train')\n",
        "plt.bar(bar2, models_test, w, label='Test')\n",
        "plt.bar(bar3, models_best_score, w, label='Best model')\n",
        "\n",
        "plt.legend(loc=\"upper center\", bbox_to_anchor = (1.1,1))\n",
        "plt.xticks(bar2, name_models)\n",
        "plt.xlabel('Models', fontsize=14)\n",
        "plt.ylabel('Accuracy', fontsize=14)\n",
        "plt.title('Breast Cancer',fontsize=20)\n",
        "# plt.savefig('breats_Cancer.png')\n",
        "plt.show()"
      ]
    },
    {
      "cell_type": "markdown",
      "metadata": {},
      "source": [
        "# Save Best Model"
      ]
    },
    {
      "cell_type": "code",
      "execution_count": null,
      "metadata": {},
      "outputs": [],
      "source": [
        "import pickle\n",
        "filename = 'Breast_cancer_model.sav'\n",
        "pickle.dump(model_Logistic, open(filename, 'wb'))"
      ]
    }
  ],
  "metadata": {
    "colab": {
      "collapsed_sections": [],
      "name": "latihan8_Breast_cancer.ipynb",
      "provenance": []
    },
    "kernelspec": {
      "display_name": "Python 3",
      "name": "python3"
    },
    "language_info": {
      "name": "python"
    }
  },
  "nbformat": 4,
  "nbformat_minor": 0
}
